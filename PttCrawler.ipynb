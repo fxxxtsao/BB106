{
  "nbformat": 4,
  "nbformat_minor": 0,
  "metadata": {
    "colab": {
      "name": "PttCrawler.ipynb",
      "provenance": [],
      "collapsed_sections": [],
      "include_colab_link": true
    },
    "kernelspec": {
      "name": "python3",
      "display_name": "Python 3"
    }
  },
  "cells": [
    {
      "cell_type": "markdown",
      "metadata": {
        "id": "view-in-github",
        "colab_type": "text"
      },
      "source": [
        "<a href=\"https://colab.research.google.com/github/fxxxtsao/BB106/blob/master/PttCrawler.ipynb\" target=\"_parent\"><img src=\"https://colab.research.google.com/assets/colab-badge.svg\" alt=\"Open In Colab\"/></a>"
      ]
    },
    {
      "cell_type": "code",
      "metadata": {
        "id": "PmJ5odsYLWMS",
        "colab_type": "code",
        "outputId": "87b7d19d-b3fa-453b-a7dd-457379518e6a",
        "colab": {
          "base_uri": "https://localhost:8080/",
          "height": 34
        }
      },
      "source": [
        "import requests\n",
        "from bs4 import BeautifulSoup as bs\n",
        "import json \n",
        "import re\n",
        "import time\n",
        "def get_soup(item):\n",
        "    headers = {'user-agent': 'Mozilla/5.0 (Windows NT 6.1) AppleWebKit/537.36 (KHTML, like Gecko) Chrome/52.0.2743.116 Safari/537.36'}\n",
        "    res = requests.get(item, headers=headers, cookies={'over18': '1'}).text\n",
        "    soup = bs(res, 'lxml')\n",
        "    return soup\n",
        "\n",
        "def get_pages():\n",
        "    pages = []\n",
        "    n = 38920\n",
        "    while True:\n",
        "        url = 'https://www.ptt.cc/bbs/Gossiping/index'+str(n)+'.html'\n",
        "        lessons = get_soup(url).select('a' )\n",
        "        if lessons == []:\n",
        "            break\n",
        "        else :\n",
        "            pages.append(url)\n",
        "            n += 1\n",
        "            #print(url)\n",
        "            #time.sleep(0.5)\n",
        "    return pages\n",
        "\n",
        "def get_article_web():\n",
        "    article_web = get_soup(get_pages()[0]).find_all('div', class_='title')\n",
        "    web = []\n",
        "    for item in article_web:\n",
        "        try:\n",
        "            web.append('https://www.ptt.cc/'+item.find('a').get('href'))\n",
        "        except :continue\n",
        "        \n",
        "    return web\n",
        "print(get_article_web()[0])"
      ],
      "execution_count": 55,
      "outputs": [
        {
          "output_type": "stream",
          "text": [
            "https://www.ptt.cc//bbs/Gossiping/M.1574638329.A.976.html\n"
          ],
          "name": "stdout"
        }
      ]
    },
    {
      "cell_type": "markdown",
      "metadata": {
        "id": "wDARDGruQ7bn",
        "colab_type": "text"
      },
      "source": [
        "### 推文數　pages[0]"
      ]
    },
    {
      "cell_type": "code",
      "metadata": {
        "id": "qPNttNgm-l-z",
        "colab_type": "code",
        "colab": {}
      },
      "source": [
        "def get_article_push():\n",
        "    article_push = get_soup(get_pages()[0]).find_all('div', class_='nrec')\n",
        "    push = []\n",
        "    #print(article)\n",
        "    for pu in article_push:\n",
        "        try:\n",
        "            push.append(pu.find('span').text)\n",
        "        except :continue\n",
        "    return push\n",
        "\n"
      ],
      "execution_count": 0,
      "outputs": []
    },
    {
      "cell_type": "markdown",
      "metadata": {
        "id": "E4NL4XseTaS1",
        "colab_type": "text"
      },
      "source": [
        "### 文章略標　pages[0] "
      ]
    },
    {
      "cell_type": "code",
      "metadata": {
        "id": "pwEXZZgjTZJG",
        "colab_type": "code",
        "colab": {}
      },
      "source": [
        "def get_article_title():\n",
        "    article_title = get_soup(pages[0]).find_all('div', class_='title')\n",
        "    title = []\n",
        "    for it in article_title:\n",
        "        try:\n",
        "            title.append(it.find('a').text)\n",
        "        except :continue\n",
        "        \n",
        "    return title\n"
      ],
      "execution_count": 0,
      "outputs": []
    },
    {
      "cell_type": "code",
      "metadata": {
        "id": "WwGuoZOwVeI5",
        "colab_type": "code",
        "outputId": "355349aa-e83d-402b-96dc-30a50b592318",
        "colab": {
          "base_uri": "https://localhost:8080/",
          "height": 54
        }
      },
      "source": [
        "def article():\n",
        "    article = {}\n",
        "    article['分頁'] = get_pages()[0]\n",
        "    article['網址'] = get_article_web()[0]\n",
        "    article['推文'] = get_article_push()[0] # 從分頁get_pages()找\n",
        "    article['作者'] = get_soup(get_article_web()[0]).find_all('span', class_='article-meta-value')[0].text\n",
        "    article['標題'] = get_soup(get_article_web()[0]).find_all('span', class_='article-meta-value')[2].text\n",
        "    article['時間'] = get_soup(get_article_web()[0]).find_all('span', class_='article-meta-value')[3].text\n",
        "    article['內文'] = get_soup(get_article_web()[0]).find_all('div', class_='bbs-screen bbs-content')[0].text\n",
        "    return article\n",
        "    \n",
        "#article= get_soup(get_article_web(1)[1]).find_all('span', class_='article-meta-value')[3].text\n",
        "#print(article())\n",
        "print(article())"
      ],
      "execution_count": 57,
      "outputs": [
        {
          "output_type": "stream",
          "text": [
            "{'分頁': 'https://www.ptt.cc/bbs/Gossiping/index38920.html', '網址': 'https://www.ptt.cc//bbs/Gossiping/M.1574638329.A.976.html', '推文': '4', '作者': 'Xaymaca (夏)', '標題': 'Re: [新聞] 「王立強」是化名 中共造假法院判決書中', '時間': 'Mon Nov 25 07:32:07 2019', '內文': '作者Xaymaca (夏)看板Gossiping標題Re: [新聞] 「王立強」是化名 中共造假法院判決書中時間Mon Nov 25 07:32:07 2019\\n\\n\\n大事不妙了\\n\\n\\n搞不好\\n\\n不是小咖咖投誠\\n\\n是大咖咖咖咖\\n\\n還有寶咖咖咖\\n\\n檯面上看到的\\n\\n只是告知讓你知道   有人投誠\\n\\n至於是甚麼層級    你想想   英國人會把大咖當鬍渣嗎\\n\\n一定是先上英國達人秀   評審很毒舌  你一定要有TALENT\\n\\n\\n看你接下來表現怎麼樣    再看心情告訴你好惹^^\\n\\n\\n--\\n※ 發信站: 批踢踢實業坊(ptt.cc), 來自: 99.199.111.4 (加拿大)\\n※ 文章網址: https://www.ptt.cc/bbs/Gossiping/M.1574638329.A.976.html\\n'}\n"
          ],
          "name": "stdout"
        }
      ]
    }
  ]
}